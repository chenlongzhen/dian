{
 "cells": [
  {
   "cell_type": "code",
   "execution_count": 1,
   "metadata": {
    "collapsed": false,
    "deletable": true,
    "editable": true
   },
   "outputs": [
    {
     "name": "stdout",
     "output_type": "stream",
     "text": [
      "Populating the interactive namespace from numpy and matplotlib\n"
     ]
    },
    {
     "name": "stderr",
     "output_type": "stream",
     "text": [
      "Using TensorFlow backend.\n",
      "/usr/local/lib/python2.7/dist-packages/matplotlib/__init__.py:1401: UserWarning:  This call to matplotlib.use() has no effect\n",
      "because the backend has already been chosen;\n",
      "matplotlib.use() must be called *before* pylab, matplotlib.pyplot,\n",
      "or matplotlib.backends is imported for the first time.\n",
      "\n",
      "  warnings.warn(_use_error_msg)\n"
     ]
    }
   ],
   "source": [
    "%pylab inline\n",
    "%matplotlib inline\n",
    "import h5py\n",
    "from keras.callbacks import TensorBoard,EarlyStopping,CSVLogger,ModelCheckpoint\n",
    "import numpy as np\n",
    "import seaborn\n",
    "import matplotlib.pyplot as plt  \n",
    "import sys,os\n",
    "import pandas as pd\n",
    "import datetime\n",
    "from dateutil.parser import parse\n",
    "from tqdm import tqdm\n",
    "import pickle\n",
    "import matplotlib\n",
    "matplotlib.use('Agg')\n",
    "import matplotlib.pyplot as plt\n",
    "from matplotlib.backends.backend_pdf import PdfPages"
   ]
  },
  {
   "cell_type": "code",
   "execution_count": 67,
   "metadata": {
    "collapsed": true,
    "deletable": true,
    "editable": true
   },
   "outputs": [],
   "source": [
    "def waveletSmooth( x, wavelet=\"db4\", level=1, title=None ):\n",
    "    ''' smooth denoise'''\n",
    "    # calculate the wavelet coefficients\n",
    "    coeff = pywt.wavedec( x, wavelet, mode=\"per\" )\n",
    "    # calculate a threshold\n",
    "    sigma = mad( coeff[-level] )\n",
    "    # changing this threshold also changes the behavior,\n",
    "    # but I have not played with this very much\n",
    "    uthresh = sigma * np.sqrt( 2*np.log( len( x ) ) )\n",
    "    coeff[1:] = ( pywt.threshold( i, value=uthresh, mode=\"soft\" ) for i in coeff[1:] )\n",
    "    # reconstruct the signal using the thresholded coefficients\n",
    "    y = pywt.waverec( coeff, wavelet, mode=\"per\" )\n",
    "    return y"
   ]
  },
  {
   "cell_type": "code",
   "execution_count": 57,
   "metadata": {
    "collapsed": false,
    "deletable": true,
    "editable": true
   },
   "outputs": [
    {
     "name": "stdout",
     "output_type": "stream",
     "text": [
      "             user_id  power_consumption  week  month  day  year  max  min\n",
      "record_date                                                              \n",
      "2015-01-01         1               1135     3      1    1  2015    8   -4\n",
      "2015-01-02         1                570     4      1    2  2015   13    0\n",
      "2015-01-03         1               3418     5      1    3  2015   16    3\n",
      "2015-01-04         1               3968     6      1    4  2015   15    4\n",
      "2015-01-05         1               3986     0      1    5  2015   10    2\n"
     ]
    }
   ],
   "source": [
    "\n",
    "def read(filePath,wetherPath = './data/zhenshitianqi.csv'):\n",
    "    '''\n",
    "    read data 2 dict\n",
    "    '''\n",
    "    \n",
    "    filePath='./data/Tianchi_power.csv'\n",
    "    wetherPath = './data/zhenshitianqi.csv'\n",
    "    #get wether data\n",
    "    wetherData = pd.read_csv(wetherPath)[['date','max','min']]\n",
    "    wetherData['date'] = wetherData['date'].apply(lambda x:parse(str(x)).strftime('%Y-%m-%d'))\n",
    "\n",
    "    #get power data\n",
    "    data = pd.read_csv(filePath)\n",
    "    data['record_date'] = data['record_date'].apply(lambda x:parse(str(x)).strftime('%Y-%m-%d'))\n",
    "    data['week'] = data['record_date'].apply(lambda x:datetime.datetime.strptime(x,'%Y-%m-%d').weekday())\n",
    "    data['month'] = data['record_date'].apply(lambda x:datetime.datetime.strptime(x,'%Y-%m-%d').month)\n",
    "    data['day'] = data['record_date'].apply(lambda x:datetime.datetime.strptime(x,'%Y-%m-%d').day)\n",
    "    data['year'] = data['record_date'].apply(lambda x:datetime.datetime.strptime(x,'%Y-%m-%d').year)\n",
    "\n",
    "    #merge\n",
    "    merged_data = pd.merge(data,wetherData,how='left',left_on='record_date',right_on='date')\n",
    "\n",
    "    readData = merged_data.set_index('record_date').drop('date',1)\n",
    "    \n",
    "    #save\n",
    "    readData.to_csv(\"./data/dataRead.csv\",index=False)\n",
    "\n",
    "    print readData.head()\n",
    "    return readData\n",
    "    \n",
    "readData = read('./data/Tianchi_power.csv')"
   ]
  },
  {
   "cell_type": "code",
   "execution_count": 65,
   "metadata": {
    "collapsed": false,
    "deletable": true,
    "editable": true,
    "scrolled": false
   },
   "outputs": [
    {
     "name": "stderr",
     "output_type": "stream",
     "text": [
      "100%|██████████| 1454/1454 [02:49<00:00,  9.08it/s]\n"
     ]
    }
   ],
   "source": [
    "pdf = PdfPages('./data/originyearly.pdf')\n",
    "\n",
    "def draw(data):\n",
    "    '''\n",
    "    read data 2 dict\n",
    "    '''\n",
    "    data2 = data.groupby('user_id')\n",
    "    for key,name in tqdm(data2):\n",
    "        fig = plt.figure(1,figsize=(20,10))\n",
    "        timeSerie = pd.Series(data=name['power_consumption'].values,index=name['record_date'])\n",
    "        ax = plt.plot(timeSerie.values[:365],'b')\n",
    "        ax = plt.plot(timeSerie.values[365:],'r')\n",
    "        pdf.savefig()\n",
    "        plt.close()\n",
    "    pdf.close()\n",
    "    return data\n",
    "\n",
    "data = draw(readData)"
   ]
  },
  {
   "cell_type": "code",
   "execution_count": null,
   "metadata": {
    "collapsed": true,
    "deletable": true,
    "editable": true
   },
   "outputs": [],
   "source": [
    "# 归一化保存\n",
    "from sklearn.preprocessing import StandardScaler, RobustScaler\n",
    "\n",
    "scalerDic={} # store scaler class\n",
    "def scaleProcess(key,data):\n",
    "    robust_scaler = RobustScaler(with_centering=True, with_scaling=True, quantile_range=(10.0, 90.0), copy=True)\n",
    "    data['power_consumption_scale'] = robust_scaler.fit_transform(data['power_consumption'].reshape(-1,1)) \n",
    "    scalerDic[key] = robust_scaler\n",
    "    return data\n",
    "\n",
    "scaleList=[] # userid scaled matrix\n",
    "def scaleData(data):\n",
    "    '''\n",
    "    read data 2 dict\n",
    "    '''\n",
    "    pdf = PdfPages('./data/scale.pdf')\n",
    "    \n",
    "    #draw\n",
    "    data2 = data.groupby('user_id')\n",
    "    for key,truck in tqdm(data2): \n",
    "        scaleData = scaleProcess(key,truck)\n",
    "        scaleList.append(scaleData)\n",
    "        \n",
    "        fig = plt.figure(1,figsize=(20,10))\n",
    "        timeSerie2 = pd.Series(data=scaleData['power_consumption_scale'].values,index=scaleData.index.values)\n",
    "        ax = plt.plot(timeSerie2.values,'r')\n",
    "        pdf.savefig()\n",
    "        plt.close()\n",
    "    pdf.close()\n",
    " \n",
    "scaleData(readData)\n",
    "\n",
    "# scaleList  save \n",
    "\n",
    "with open('./data/scaleList', 'wb') as fp:\n",
    "    pickle.dump(scaleList, fp)\n",
    "    \n",
    "with open('./data/scalerDic', 'wb') as fp:\n",
    "    pickle.dump(scalerDic, fp)   "
   ]
  },
  {
   "cell_type": "code",
   "execution_count": 77,
   "metadata": {
    "collapsed": true,
    "deletable": true,
    "editable": true
   },
   "outputs": [
    {
     "name": "stderr",
     "output_type": "stream",
     "text": [
      "/Users/clz/anaconda/lib/python2.7/site-packages/sklearn/preprocessing/data.py:986: DeprecationWarning: Passing 1d arrays as data is deprecated in 0.17 and will raise ValueError in 0.19. Reshape your data either using X.reshape(-1, 1) if your data has a single feature or X.reshape(1, -1) if it contains a single sample.\n",
      "  warnings.warn(DEPRECATION_MSG_1D, DeprecationWarning)\n",
      "/Users/clz/anaconda/lib/python2.7/site-packages/sklearn/preprocessing/data.py:1063: DeprecationWarning: Passing 1d arrays as data is deprecated in 0.17 and will raise ValueError in 0.19. Reshape your data either using X.reshape(-1, 1) if your data has a single feature or X.reshape(1, -1) if it contains a single sample.\n",
      "  warnings.warn(DEPRECATION_MSG_1D, DeprecationWarning)\n"
     ]
    },
    {
     "data": {
      "text/plain": [
       "[<matplotlib.lines.Line2D at 0x135c36d50>]"
      ]
     },
     "execution_count": 77,
     "metadata": {},
     "output_type": "execute_result"
    },
    {
     "data": {
      "image/png": "[encoded data removed]",
      "text/plain": [
       "<matplotlib.figure.Figure at 0x10e7f4890>"
      ]
     },
     "metadata": {},
     "output_type": "display_data"
    }
   ],
   "source": [
    "#check\n",
    "#import matplotlib\n",
    "#matplotlib.use('Agg')\n",
    "#import matplotlib.pyplot as plt\n",
    "#datax = scalerDic[2].inverse_transform(scaleList[1]['power_consumption_scale'])\n",
    "#plt.plot(datax)"
   ]
  },
  {
   "cell_type": "code",
   "execution_count": 76,
   "metadata": {
    "collapsed": true,
    "deletable": true,
    "editable": true
   },
   "outputs": [
    {
     "data": {
      "text/plain": [
       "[<matplotlib.lines.Line2D at 0x13644cb50>]"
      ]
     },
     "execution_count": 76,
     "metadata": {},
     "output_type": "execute_result"
    },
    {
     "data": {
      "image/png": "[encoded data removed]",
      "text/plain": [
       "<matplotlib.figure.Figure at 0x13591a510>"
      ]
     },
     "metadata": {},
     "output_type": "display_data"
    }
   ],
   "source": [
    "plt.plot(scaleList[1]['power_consumption'].values)"
   ]
  },
  {
   "cell_type": "code",
   "execution_count": 7,
   "metadata": {
    "collapsed": false,
    "deletable": true,
    "editable": true
   },
   "outputs": [],
   "source": [
    "#read scale\n",
    "with open ('./data/scaleList', 'rb') as fp:\n",
    "    scaleList = pickle.load(fp)\n",
    "    \n",
    "with open ('./data/scalerDic', 'rb') as fp:\n",
    "    scalerDic = pickle.load(fp)   "
   ]
  },
  {
   "cell_type": "code",
   "execution_count": 54,
   "metadata": {
    "collapsed": false,
    "deletable": true,
    "editable": true
   },
   "outputs": [
    {
     "name": "stderr",
     "output_type": "stream",
     "text": [
      "100%|██████████| 1454/1454 [00:15<00:00, 92.82it/s]\n"
     ]
    }
   ],
   "source": [
    "# 用去年的预测今年的数据 按照日期对应 1-7月训练 8月validation \n",
    "def getTrain(scaleList=scaleList,testMonth=8):\n",
    "    originTrainXList = []\n",
    "    originTrainYList = []\n",
    "    originTestXList=[]\n",
    "    originTestYList=[]\n",
    "    \n",
    "    for userData in tqdm(scaleList):\n",
    "        #userData = pd.DataFrame(userData)\n",
    "        trainX = userData[(userData.month < testMonth) & (userData.year == 2015)]\n",
    "        trainY = userData[(userData.month < testMonth) & (userData.year == 2016)]\n",
    "        testX = userData[(userData.month == testMonth) & (userData.year == 2015)]\n",
    "        testY = userData[(userData.month == testMonth) & (userData.year == 2016)]\n",
    "        \n",
    "        train_XY = pd.merge(trainX,trainY,how='left',on=['month','day'])\n",
    "        test_XY = pd.merge(testX,testY,how='left',on=['month','day'])\n",
    "        \n",
    "        originTrainXList.append(train_XY[['power_consumption_scale_x','week_x','max_x','min_x']])\n",
    "        originTrainYList.append(train_XY[['power_consumption_scale_y','week_y','max_y','min_y']])\n",
    "        originTestXList.append(test_XY[['power_consumption_scale_x','week_x','max_x','min_x']])\n",
    "        originTestYList.append(test_XY[['power_consumption_scale_y','week_y','max_y','min_y']])\n",
    "        \n",
    "    with open('./data/originTrainXList', 'wb') as fp:\n",
    "        pickle.dump(originTrainXList, fp)\n",
    "    \n",
    "    with open('./data/originTrainYList', 'wb') as fp:\n",
    "        pickle.dump(originTrainYList, fp)\n",
    "        \n",
    "    with open('./data/originTestXList', 'wb') as fp: \n",
    "        pickle.dump(originTestXList, fp)\n",
    "        \n",
    "    with open('./data/originTestYList', 'wb') as fp:\n",
    "        pickle.dump(originTestYList, fp)\n",
    " \n",
    "        \n",
    "    return originTrainXList,originTrainYList,originTestXList,originTestYList\n",
    "\n",
    "originTrainXList,originTrainYList,originTestXList,originTestYList = getTrain()"
   ]
  },
  {
   "cell_type": "code",
   "execution_count": 23,
   "metadata": {
    "collapsed": false,
    "deletable": true,
    "editable": true
   },
   "outputs": [
    {
     "name": "stdout",
     "output_type": "stream",
     "text": [
      "   power_consumption_scale_x  week_x  max_x  min_x\n",
      "0                   0.305994       3      8     -4\n",
      "1                   0.271293       4     13      0\n",
      "2                   0.320189       5     16      3\n",
      "3                   0.353312       6     15      4\n",
      "4                   0.501577       0     10      2\n"
     ]
    }
   ],
   "source": [
    "print originTrainXList[1000].head()"
   ]
  },
  {
   "cell_type": "code",
   "execution_count": 2,
   "metadata": {
    "collapsed": false,
    "deletable": true,
    "editable": true
   },
   "outputs": [],
   "source": [
    "# load\n",
    "with open('./data/originTrainXList', 'rb') as fp:\n",
    "    originTrainXList = pickle.load(fp)\n",
    "\n",
    "with open('./data/originTrainYList', 'rb') as fp:\n",
    "    originTrainYList = pickle.load(fp)\n",
    "\n",
    "with open('./data/originTestXList', 'rb') as fp: \n",
    "    originTestXList = pickle.load(fp)\n",
    "\n",
    "with open('./data/originTestYList', 'rb') as fp:\n",
    "    originTestYList = pickle.load(fp)"
   ]
  },
  {
   "cell_type": "code",
   "execution_count": 15,
   "metadata": {
    "collapsed": false,
    "deletable": true,
    "editable": true
   },
   "outputs": [],
   "source": [
    "# LSTM  with window regression framing\n",
    "import tensorflow as tf\n",
    "from keras.models import Sequential\n",
    "from keras.layers import Dense\n",
    "from keras.layers import LSTM\n",
    "from sklearn.preprocessing import MinMaxScaler\n",
    "from sklearn.metrics import mean_squared_error\n",
    "from sklearn.metrics import mean_absolute_error\n",
    "from sklearn.metrics import r2_score\n",
    "import keras.backend.tensorflow_backend as KTF\n",
    "\n",
    "def get_session(allow_growth=True):\n",
    "    '''Assume that you have 6GB of GPU memory and want to allocate ~2GB'''\n",
    "\n",
    "    num_threads = os.environ.get('OMP_NUM_THREADS')\n",
    "    #gpu_options = tf.GPUOptions(per_process_gpu_memory_fraction=gpu_fraction)\n",
    "    gpu_options = tf.GPUOptions(allow_growth=True)\n",
    "\n",
    "\n",
    "    if num_threads:\n",
    "        return tf.Session(config=tf.ConfigProto(\n",
    "            gpu_options=gpu_options, intra_op_parallelism_threads=num_threads))\n",
    "    else:\n",
    "        return tf.Session(config=tf.ConfigProto(gpu_options=gpu_options))\n",
    "        \n",
    "KTF.set_session(get_session(allow_growth=True))\n",
    "\n",
    "# convert an array of values into a dataset matrix\n",
    "def create_dataset(X, Y,look_back=7):\n",
    "    dataX, dataY = [], []\n",
    "    for i in range(len(X)-look_back):\n",
    "        #print X.iloc[i:(i+look_back+1)]\n",
    "        #print Y.iloc[i:(i+look_back+1)]\n",
    "        # X consumption scale\n",
    "        power_consumption_scale = X.iloc[i:(i+look_back+1)]['power_consumption_scale_x']\n",
    "        featureX = power_consumption_scale.tolist() # consumption\n",
    "        \n",
    "        # weekBinary\n",
    "        tmp = [0,0,0,0,0,0,0]\n",
    "        weekNum = Y.iloc[i+look_back]['week_y']\n",
    "        tmp[int(weekNum)] = 1\n",
    "        featureX += tmp  #value\n",
    "        \n",
    "        # forecast day wether \n",
    "        wether_max = Y.iloc[(i+look_back)]['max_y']/30\n",
    "        wether_min = Y.iloc[(i+look_back)]['min_y']/30\n",
    "        featureX += [wether_max,wether_min]\n",
    "        \n",
    "        dataX.append(featureX)\n",
    "        \n",
    "        # Y consumption scale\n",
    "        power_consumption_scale = Y.iloc[(i+look_back)]['power_consumption_scale_y']\n",
    "        dataY.append([power_consumption_scale]) # consumption\n",
    "        \n",
    "        #print dataX\n",
    "        #print dataY\n",
    "        \n",
    "    return numpy.array(dataX), numpy.array(dataY)\n",
    "# dataX,dataY = create_dataset(originTrainXList[0],originTrainYList[0])"
   ]
  },
  {
   "cell_type": "code",
   "execution_count": 18,
   "metadata": {
    "collapsed": true
   },
   "outputs": [],
   "source": [
    "# reshape into X=t and Y=t+1\n",
    "import h5py\n",
    "def trainData(ind=0,look_back=7):\n",
    "    trainX, trainY = create_dataset(originTrainXList[ind],originTrainYList[ind],look_back=look_back)\n",
    "    testX, testY = create_dataset(originTestXList[ind],originTestYList[ind],look_back=look_back)\n",
    "    # reshape input to be [samples, time steps, features]\n",
    "    trainX = numpy.reshape(trainX, (trainX.shape[0], 1, trainX.shape[1]))\n",
    "    testX = numpy.reshape(testX, (testX.shape[0], 1, testX.shape[1]))\n",
    "\n",
    "    # create and fit the LSTM network\n",
    "    model = Sequential()\n",
    "    model.add(LSTM(5, input_shape=(1, trainX.shape[2]),))\n",
    "    model.add(Dense(1))\n",
    "    model.compile(loss='mean_squared_error', optimizer='rmsprop')\n",
    "    # print  model.summary()\n",
    "    \n",
    "    \n",
    "    # tensor board\n",
    "    tb = TensorBoard('./data/tb/{}'.format(ind), histogram_freq=1,write_graph=True, write_images=False)\n",
    "    #* tensorboard --logdir path_to_current_dir/Graph --port 8080 \n",
    "\n",
    "    # earlystoping\n",
    "    ES = EarlyStopping(monitor='val_loss', patience=5, verbose=0, mode='auto')\n",
    "\n",
    "    # csv log\n",
    "    csvlog = CSVLogger(\"./data/tflog/{}.log\".format(ind),separator=',', append=False)\n",
    "\n",
    "    # saves the model weights after each epoch if the validation loss decreased\n",
    "    checkpointer = ModelCheckpoint(filepath=\"./data/weight/{}.h5\".format(ind),verbose=0, save_best_only=True)\n",
    "\n",
    "    ##############################\n",
    "    # fit\n",
    "    ##############################\n",
    "    model.fit(trainX, trainY, epochs=50,batch_size=1, verbose=0,validation_data=(testX,testY),callbacks = [csvlog,checkpointer,ES])\n",
    "    #model.fit(trainX, trainY, epochs=50,batch_size=1, verbose=2)\n",
    "    # make predictions\n",
    "    trainPredict = model.predict(trainX)\n",
    "    testPredict = model.predict(testX)\n",
    "\n",
    "    # invert predictions\n",
    "    trainPredict = scalerDic[ind+1].inverse_transform(trainPredict.reshape(-1,1))\n",
    "    trainY = scalerDic[ind+1].inverse_transform(trainY.reshape(-1,1))\n",
    "    testPredict = scalerDic[ind+1].inverse_transform(testPredict.reshape(-1,1))\n",
    "    testY = scalerDic[ind+1].inverse_transform(testY.reshape(-1,1))\n",
    "    \n",
    "    \n",
    "    # calculate root mean squared error\n",
    "    #print testPredict\n",
    "    #trainScore = math.sqrt(mean_squared_error(trainY,trainPredict))\n",
    "    #print('train mean_squared_error: %.2f ' % (trainScore))\n",
    "    #testScore = math.sqrt(mean_squared_error(testY,testPredict))\n",
    "    #print('test mean_squared_error: %.2f ' % (testScore))\n",
    "    #trainScore = math.sqrt(mean_absolute_error(trainY,trainPredict))\n",
    "    #print('Train mean_absolute_error: %.2f ' % (trainScore))\n",
    "    #testScore = math.sqrt(mean_absolute_error(testY,testPredict))\n",
    "    #print('Test mean_absolute_error: %.2f ' % (testScore))\n",
    "    #trainScore = math.sqrt(r2_score(trainY,trainPredict))\n",
    "    #print('Train r2_score: %.2f ' % (trainScore))\n",
    "    #testScore = math.sqrt(r2_score(testY,testPredict))\n",
    "    #print('Test r2_score: %.2f ' % (testScore))\n",
    "    #plt.plot(testPredict,'r-')\n",
    "    #plt.plot(testY)\n",
    "    "
   ]
  },
  {
   "cell_type": "code",
   "execution_count": null,
   "metadata": {
    "collapsed": false,
    "deletable": true,
    "editable": true,
    "scrolled": false
   },
   "outputs": [
    {
     "name": "stderr",
     "output_type": "stream",
     "text": [
      "\n",
      "\n",
      "  0%|          | 0/1454 [00:00<?, ?it/s]\u001b[A\u001b[A\n",
      "\u001b[A\n",
      "\n",
      "  0%|          | 1/1454 [00:27<11:02:16, 27.35s/it]\u001b[A\u001b[A\n",
      "\n",
      "  0%|          | 2/1454 [00:42<9:32:02, 23.64s/it] \u001b[A\u001b[A\n",
      "\n",
      "  0%|          | 3/1454 [00:57<8:28:01, 21.01s/it]\u001b[A\u001b[A\n",
      "\n",
      "  0%|          | 4/1454 [01:27<9:32:09, 23.68s/it]\u001b[A\u001b[A\n",
      "\n",
      "  0%|          | 5/1454 [02:04<11:10:03, 27.75s/it]\u001b[A\u001b[A\n",
      "\n",
      "  0%|          | 6/1454 [02:20<9:48:30, 24.39s/it] \u001b[A\u001b[A\n",
      "\n",
      "  0%|          | 7/1454 [02:31<8:05:15, 20.12s/it]\u001b[A\u001b[A"
     ]
    }
   ],
   "source": [
    "for i in tqdm(range(len(originTrainXList))):\n",
    "    trainData(ind=i)"
   ]
  },
  {
   "cell_type": "code",
   "execution_count": 68,
   "metadata": {
    "collapsed": false,
    "deletable": true,
    "editable": true
   },
   "outputs": [
    {
     "name": "stdout",
     "output_type": "stream",
     "text": [
      "[[  738.10655738]\n",
      " [  684.45081967]\n",
      " [  652.74515648]\n",
      " [  550.31147541]\n",
      " [  623.47839046]\n",
      " [  545.43368107]\n",
      " [  613.72280179]\n",
      " [  794.20119225]\n",
      " [  799.07898659]\n",
      " [  716.15648286]\n",
      " [ 1006.3852459 ]\n",
      " [  647.86736215]\n",
      " [  547.87257824]\n",
      " [  496.6557377 ]\n",
      " [  762.49552906]\n",
      " [  733.22876304]\n",
      " [  577.13934426]\n",
      " [  635.6728763 ]\n",
      " [  460.07228018]\n",
      " [  672.25633383]\n",
      " [  540.55588674]\n",
      " [  613.72280179]\n",
      " [  660.06184799]\n",
      " [  684.45081967]] [[ 427.4911499 ]\n",
      " [ 460.66973877]\n",
      " [ 417.28198242]\n",
      " [ 519.55145264]\n",
      " [ 484.64709473]\n",
      " [ 477.82870483]\n",
      " [ 435.71624756]\n",
      " [ 447.70141602]\n",
      " [ 478.2671814 ]\n",
      " [ 406.36434937]\n",
      " [ 518.78222656]\n",
      " [ 488.5687561 ]\n",
      " [ 493.75421143]\n",
      " [ 432.88977051]\n",
      " [ 434.46646118]\n",
      " [ 477.99050903]\n",
      " [ 414.78863525]\n",
      " [ 535.50195312]\n",
      " [ 494.57525635]\n",
      " [ 492.09228516]\n",
      " [ 412.33996582]\n",
      " [ 454.73922729]\n",
      " [ 515.34771729]\n",
      " [ 472.24935913]]\n"
     ]
    }
   ],
   "source": [
    "print testY,testPredict"
   ]
  },
  {
   "cell_type": "code",
   "execution_count": 57,
   "metadata": {
    "collapsed": false,
    "deletable": true,
    "editable": true
   },
   "outputs": [
    {
     "name": "stdout",
     "output_type": "stream",
     "text": [
      "[[  738.10655738]\n",
      " [  684.45081967]\n",
      " [  652.74515648]\n",
      " [  550.31147541]\n",
      " [  623.47839046]\n",
      " [  545.43368107]\n",
      " [  613.72280179]\n",
      " [  794.20119225]\n",
      " [  799.07898659]\n",
      " [  716.15648286]\n",
      " [ 1006.3852459 ]\n",
      " [  647.86736215]\n",
      " [  547.87257824]\n",
      " [  496.6557377 ]\n",
      " [  762.49552906]\n",
      " [  733.22876304]\n",
      " [  577.13934426]\n",
      " [  635.6728763 ]\n",
      " [  460.07228018]\n",
      " [  672.25633383]\n",
      " [  540.55588674]\n",
      " [  613.72280179]\n",
      " [  660.06184799]\n",
      " [  684.45081967]] [[ 483.63815308]\n",
      " [ 552.63763428]\n",
      " [ 513.06549072]\n",
      " [ 583.24511719]\n",
      " [ 534.07263184]\n",
      " [ 486.15509033]\n",
      " [ 502.12530518]\n",
      " [ 492.0708313 ]\n",
      " [ 540.57641602]\n",
      " [ 495.53134155]\n",
      " [ 564.97625732]\n",
      " [ 550.19848633]\n",
      " [ 508.42672729]\n",
      " [ 495.20834351]\n",
      " [ 478.95123291]\n",
      " [ 543.98461914]\n",
      " [ 504.66973877]\n",
      " [ 562.42462158]\n",
      " [ 522.88549805]\n",
      " [ 500.11782837]\n",
      " [ 459.02322388]\n",
      " [ 499.35562134]\n",
      " [ 572.74017334]\n",
      " [ 504.59823608]]\n"
     ]
    }
   ],
   "source": []
  },
  {
   "cell_type": "code",
   "execution_count": null,
   "metadata": {
    "collapsed": true,
    "deletable": true,
    "editable": true
   },
   "outputs": [],
   "source": [
    "def sumAll(data):\n",
    "    '''sum by day'''\n",
    "    dataSum = pd.DataFrame()\n",
    "     \n",
    "  \n",
    "    dataSum['sum_consumption'] = data.groupby('record_date')['smooth'].sum() \n",
    "\n",
    "    dataSum['record_date'] = dataSum.index\n",
    "    dataSum['week'] = dataSum['record_date'].apply(lambda x:datetime.datetime.strptime(x,'%Y-%m-%d').weekday())\n",
    "    dataSum['month'] = dataSum['record_date'].apply(lambda x:datetime.datetime.strptime(x,'%Y-%m-%d').month)\n",
    "    dataSum['day'] = dataSum['record_date'].apply(lambda x:datetime.datetime.strptime(x,'%Y-%m-%d').day)\n",
    "  \n",
    "    return dataSum\n",
    "    \n",
    "#  1.read and processdata   \n",
    "dataRead = read(\"./data/Tianchi_power.csv\")\n",
    "dataRead.to_csv(\"./data/dataRead.csv\",index=False)\n",
    "plt.plot(dataRead[dataRead==1000]['power_consumption'])\n",
    "print dataRead.head() "
   ]
  }
 ],
 "metadata": {
  "kernelspec": {
   "display_name": "Python 2",
   "language": "python",
   "name": "python2"
  },
  "language_info": {
   "codemirror_mode": {
    "name": "ipython",
    "version": 2
   },
   "file_extension": ".py",
   "mimetype": "text/x-python",
   "name": "python",
   "nbconvert_exporter": "python",
   "pygments_lexer": "ipython2",
   "version": "2.7.12"
  }
 },
 "nbformat": 4,
 "nbformat_minor": 2
}
