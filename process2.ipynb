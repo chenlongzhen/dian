{
 "cells": [
  {
   "cell_type": "code",
   "execution_count": 5,
   "metadata": {
    "collapsed": false
   },
   "outputs": [
    {
     "name": "stdout",
     "output_type": "stream",
     "text": [
      "Populating the interactive namespace from numpy and matplotlib\n"
     ]
    },
    {
     "name": "stderr",
     "output_type": "stream",
     "text": [
      "/Users/clz/anaconda/lib/python2.7/site-packages/matplotlib/__init__.py:1401: UserWarning:  This call to matplotlib.use() has no effect\n",
      "because the backend has already been chosen;\n",
      "matplotlib.use() must be called *before* pylab, matplotlib.pyplot,\n",
      "or matplotlib.backends is imported for the first time.\n",
      "\n",
      "  warnings.warn(_use_error_msg)\n"
     ]
    }
   ],
   "source": [
    "%pylab inline\n",
    "%matplotlib inline\n",
    "    \n",
    "import pywt\n",
    "import numpy as np\n",
    "import seaborn\n",
    "from statsmodels.robust import mad\n",
    "import matplotlib.pyplot as plt  \n",
    "import sys\n",
    "import pandas as pd\n",
    "import datetime\n",
    "from dateutil.parser import parse\n",
    "from tqdm import tqdm\n",
    "import pickle\n",
    "import matplotlib\n",
    "matplotlib.use('Agg')\n",
    "import matplotlib.pyplot as plt\n",
    "from matplotlib.backends.backend_pdf import PdfPages"
   ]
  },
  {
   "cell_type": "code",
   "execution_count": 67,
   "metadata": {
    "collapsed": true
   },
   "outputs": [],
   "source": [
    "def waveletSmooth( x, wavelet=\"db4\", level=1, title=None ):\n",
    "    ''' smooth denoise'''\n",
    "    # calculate the wavelet coefficients\n",
    "    coeff = pywt.wavedec( x, wavelet, mode=\"per\" )\n",
    "    # calculate a threshold\n",
    "    sigma = mad( coeff[-level] )\n",
    "    # changing this threshold also changes the behavior,\n",
    "    # but I have not played with this very much\n",
    "    uthresh = sigma * np.sqrt( 2*np.log( len( x ) ) )\n",
    "    coeff[1:] = ( pywt.threshold( i, value=uthresh, mode=\"soft\" ) for i in coeff[1:] )\n",
    "    # reconstruct the signal using the thresholded coefficients\n",
    "    y = pywt.waverec( coeff, wavelet, mode=\"per\" )\n",
    "    return y"
   ]
  },
  {
   "cell_type": "code",
   "execution_count": 57,
   "metadata": {
    "collapsed": false
   },
   "outputs": [
    {
     "name": "stdout",
     "output_type": "stream",
     "text": [
      "             user_id  power_consumption  week  month  day  year  max  min\n",
      "record_date                                                              \n",
      "2015-01-01         1               1135     3      1    1  2015    8   -4\n",
      "2015-01-02         1                570     4      1    2  2015   13    0\n",
      "2015-01-03         1               3418     5      1    3  2015   16    3\n",
      "2015-01-04         1               3968     6      1    4  2015   15    4\n",
      "2015-01-05         1               3986     0      1    5  2015   10    2\n"
     ]
    }
   ],
   "source": [
    "\n",
    "def read(filePath,wetherPath = './data/zhenshitianqi.csv'):\n",
    "    '''\n",
    "    read data 2 dict\n",
    "    '''\n",
    "    \n",
    "    filePath='./data/Tianchi_power.csv'\n",
    "    wetherPath = './data/zhenshitianqi.csv'\n",
    "    #get wether data\n",
    "    wetherData = pd.read_csv(wetherPath)[['date','max','min']]\n",
    "    wetherData['date'] = wetherData['date'].apply(lambda x:parse(str(x)).strftime('%Y-%m-%d'))\n",
    "\n",
    "    #get power data\n",
    "    data = pd.read_csv(filePath)\n",
    "    data['record_date'] = data['record_date'].apply(lambda x:parse(str(x)).strftime('%Y-%m-%d'))\n",
    "    data['week'] = data['record_date'].apply(lambda x:datetime.datetime.strptime(x,'%Y-%m-%d').weekday())\n",
    "    data['month'] = data['record_date'].apply(lambda x:datetime.datetime.strptime(x,'%Y-%m-%d').month)\n",
    "    data['day'] = data['record_date'].apply(lambda x:datetime.datetime.strptime(x,'%Y-%m-%d').day)\n",
    "    data['year'] = data['record_date'].apply(lambda x:datetime.datetime.strptime(x,'%Y-%m-%d').year)\n",
    "\n",
    "    #merge\n",
    "    merged_data = pd.merge(data,wetherData,how='left',left_on='record_date',right_on='date')\n",
    "\n",
    "    readData = merged_data.set_index('record_date').drop('date',1)\n",
    "    \n",
    "    #save\n",
    "    readData.to_csv(\"./data/dataRead.csv\",index=False)\n",
    "\n",
    "    print readData.head()\n",
    "    return readData\n",
    "    \n",
    "readData = read('./data/Tianchi_power.csv')"
   ]
  },
  {
   "cell_type": "code",
   "execution_count": 65,
   "metadata": {
    "collapsed": false,
    "scrolled": false
   },
   "outputs": [
    {
     "name": "stderr",
     "output_type": "stream",
     "text": [
      "100%|██████████| 1454/1454 [02:49<00:00,  9.08it/s]\n"
     ]
    }
   ],
   "source": [
    "pdf = PdfPages('./data/originyearly.pdf')\n",
    "\n",
    "def draw(data):\n",
    "    '''\n",
    "    read data 2 dict\n",
    "    '''\n",
    "    data2 = data.groupby('user_id')\n",
    "    for key,name in tqdm(data2):\n",
    "        fig = plt.figure(1,figsize=(20,10))\n",
    "        timeSerie = pd.Series(data=name['power_consumption'].values,index=name['record_date'])\n",
    "        ax = plt.plot(timeSerie.values[:365],'b')\n",
    "        ax = plt.plot(timeSerie.values[365:],'r')\n",
    "        pdf.savefig()\n",
    "        plt.close()\n",
    "    pdf.close()\n",
    "    return data\n",
    "\n",
    "data = draw(readData)"
   ]
  },
  {
   "cell_type": "code",
   "execution_count": null,
   "metadata": {
    "collapsed": true
   },
   "outputs": [],
   "source": [
    "# 归一化保存\n",
    "from sklearn.preprocessing import StandardScaler, RobustScaler\n",
    "\n",
    "scalerDic={} # store scaler class\n",
    "def scaleProcess(key,data):\n",
    "    robust_scaler = RobustScaler(with_centering=True, with_scaling=True, quantile_range=(10.0, 90.0), copy=True)\n",
    "    data['power_consumption_scale'] = robust_scaler.fit_transform(data['power_consumption'].reshape(-1,1)) \n",
    "    scalerDic[key] = robust_scaler\n",
    "    return data\n",
    "\n",
    "scaleList=[] # userid scaled matrix\n",
    "def scaleData(data):\n",
    "    '''\n",
    "    read data 2 dict\n",
    "    '''\n",
    "    pdf = PdfPages('./data/scale.pdf')\n",
    "    \n",
    "    #draw\n",
    "    data2 = data.groupby('user_id')\n",
    "    for key,truck in tqdm(data2): \n",
    "        scaleData = scaleProcess(key,truck)\n",
    "        scaleList.append(scaleData)\n",
    "        \n",
    "        fig = plt.figure(1,figsize=(20,10))\n",
    "        timeSerie2 = pd.Series(data=scaleData['power_consumption_scale'].values,index=scaleData.index.values)\n",
    "        ax = plt.plot(timeSerie2.values,'r')\n",
    "        pdf.savefig()\n",
    "        plt.close()\n",
    "    pdf.close()\n",
    " \n",
    "scaleData(readData)\n",
    "\n",
    "# scaleList  save \n",
    "\n",
    "with open('./data/scaleList', 'wb') as fp:\n",
    "    pickle.dump(scaleList, fp)\n",
    "    \n",
    "with open('./data/scalerDic', 'wb') as fp:\n",
    "    pickle.dump(scalerDic, fp)   "
   ]
  },
  {
   "cell_type": "code",
   "execution_count": 77,
   "metadata": {
    "collapsed": true
   },
   "outputs": [
    {
     "name": "stderr",
     "output_type": "stream",
     "text": [
      "/Users/clz/anaconda/lib/python2.7/site-packages/sklearn/preprocessing/data.py:986: DeprecationWarning: Passing 1d arrays as data is deprecated in 0.17 and will raise ValueError in 0.19. Reshape your data either using X.reshape(-1, 1) if your data has a single feature or X.reshape(1, -1) if it contains a single sample.\n",
      "  warnings.warn(DEPRECATION_MSG_1D, DeprecationWarning)\n",
      "/Users/clz/anaconda/lib/python2.7/site-packages/sklearn/preprocessing/data.py:1063: DeprecationWarning: Passing 1d arrays as data is deprecated in 0.17 and will raise ValueError in 0.19. Reshape your data either using X.reshape(-1, 1) if your data has a single feature or X.reshape(1, -1) if it contains a single sample.\n",
      "  warnings.warn(DEPRECATION_MSG_1D, DeprecationWarning)\n"
     ]
    },
    {
     "data": {
      "text/plain": [
       "[<matplotlib.lines.Line2D at 0x135c36d50>]"
      ]
     },
     "execution_count": 77,
     "metadata": {},
     "output_type": "execute_result"
    },
    {
     "data": {
      "image/png": "[encoded data removed]",
      "text/plain": [
       "<matplotlib.figure.Figure at 0x10e7f4890>"
      ]
     },
     "metadata": {},
     "output_type": "display_data"
    }
   ],
   "source": [
    "#check\n",
    "#import matplotlib\n",
    "#matplotlib.use('Agg')\n",
    "#import matplotlib.pyplot as plt\n",
    "#datax = scalerDic[2].inverse_transform(scaleList[1]['power_consumption_scale'])\n",
    "#plt.plot(datax)"
   ]
  },
  {
   "cell_type": "code",
   "execution_count": 76,
   "metadata": {
    "collapsed": true
   },
   "outputs": [
    {
     "data": {
      "text/plain": [
       "[<matplotlib.lines.Line2D at 0x13644cb50>]"
      ]
     },
     "execution_count": 76,
     "metadata": {},
     "output_type": "execute_result"
    },
    {
     "data": {
      "image/png": "[encoded data removed]",
      "text/plain": [
       "<matplotlib.figure.Figure at 0x13591a510>"
      ]
     },
     "metadata": {},
     "output_type": "display_data"
    }
   ],
   "source": [
    "plt.plot(scaleList[1]['power_consumption'].values)"
   ]
  },
  {
   "cell_type": "code",
   "execution_count": 6,
   "metadata": {
    "collapsed": false
   },
   "outputs": [],
   "source": [
    "#read scale\n",
    "with open ('./data/scaleList', 'rb') as fp:\n",
    "    scaleList = pickle.load(fp)\n",
    "    \n",
    "with open ('./data/scalerDic', 'rb') as fp:\n",
    "    scalerDic = pickle.load(fp)   "
   ]
  },
  {
   "cell_type": "code",
   "execution_count": 54,
   "metadata": {
    "collapsed": false
   },
   "outputs": [
    {
     "name": "stderr",
     "output_type": "stream",
     "text": [
      "100%|██████████| 1454/1454 [00:15<00:00, 92.82it/s]\n"
     ]
    }
   ],
   "source": [
    "# 用去年的预测今年的数据 按照日期对应 1-7月训练 8月validation \n",
    "def getTrain(scaleList=scaleList,testMonth=8):\n",
    "    originTrainXList = []\n",
    "    originTrainYList = []\n",
    "    originTestXList=[]\n",
    "    originTestYList=[]\n",
    "    \n",
    "    for userData in tqdm(scaleList):\n",
    "        #userData = pd.DataFrame(userData)\n",
    "        trainX = userData[(userData.month < testMonth) & (userData.year == 2015)]\n",
    "        trainY = userData[(userData.month < testMonth) & (userData.year == 2016)]\n",
    "        testX = userData[(userData.month == testMonth) & (userData.year == 2015)]\n",
    "        testY = userData[(userData.month == testMonth) & (userData.year == 2016)]\n",
    "        \n",
    "        train_XY = pd.merge(trainX,trainY,how='left',on=['month','day'])\n",
    "        test_XY = pd.merge(testX,testY,how='left',on=['month','day'])\n",
    "        \n",
    "        originTrainXList.append(train_XY[['power_consumption_scale_x','week_x','max_x','min_x']])\n",
    "        originTrainYList.append(train_XY[['power_consumption_scale_y','week_y','max_y','min_y']])\n",
    "        originTestXList.append(test_XY[['power_consumption_scale_x','week_x','max_x','min_x']])\n",
    "        originTestYList.append(test_XY[['power_consumption_scale_y','week_y','max_y','min_y']])\n",
    "        \n",
    "    with open('./data/originTrainXList', 'wb') as fp:\n",
    "        pickle.dump(originTrainXList, fp)\n",
    "    \n",
    "    with open('./data/originTrainYList', 'wb') as fp:\n",
    "        pickle.dump(originTrainYList, fp)\n",
    "        \n",
    "    with open('./data/originTestXList', 'wb') as fp: \n",
    "        pickle.dump(originTestXList, fp)\n",
    "        \n",
    "    with open('./data/originTestYList', 'wb') as fp:\n",
    "        pickle.dump(originTestYList, fp)\n",
    " \n",
    "        \n",
    "    return originTrainXList,originTrainYList,originTestXList,originTestYList\n",
    "\n",
    "originTrainXList,originTrainYList,originTestXList,originTestYList = getTrain()"
   ]
  },
  {
   "cell_type": "code",
   "execution_count": 40,
   "metadata": {
    "collapsed": false
   },
   "outputs": [
    {
     "name": "stdout",
     "output_type": "stream",
     "text": [
      "212\n"
     ]
    }
   ],
   "source": [
    "print len(originTrainXList[1000])"
   ]
  },
  {
   "cell_type": "code",
   "execution_count": 47,
   "metadata": {
    "collapsed": false
   },
   "outputs": [],
   "source": [
    "# load\n",
    "with open('./data/originTrainXList', 'rb') as fp:\n",
    "    originTrainXList = pickle.load(fp)\n",
    "\n",
    "with open('./data/originTrainYList', 'rb') as fp:\n",
    "    originTrainYList = pickle.load(fp)\n",
    "\n",
    "with open('./data/originTestXList', 'rb') as fp: \n",
    "    originTestXList = pickle.load(fp)\n",
    "\n",
    "with open('./data/originTestYList', 'rb') as fp:\n",
    "    originTestYList = pickle.load(fp)"
   ]
  },
  {
   "cell_type": "code",
   "execution_count": 55,
   "metadata": {
    "collapsed": false
   },
   "outputs": [],
   "source": [
    "# LSTM  with window regression framing\n",
    "from keras.models import Sequential\n",
    "from keras.layers import Dense\n",
    "from keras.layers import LSTM\n",
    "from sklearn.preprocessing import MinMaxScaler\n",
    "from sklearn.metrics import mean_squared_error\n",
    "\n",
    "\n",
    "# convert an array of values into a dataset matrix\n",
    "def create_dataset(X, Y,look_back=7):\n",
    "    dataX, dataY = [], []\n",
    "    for i in tqdm(range(len(X)-look_back-1)):\n",
    "        #print X.iloc[i:(i+look_back+1)]\n",
    "        #print Y.iloc[i:(i+look_back+1)]\n",
    "        # X consumption scale\n",
    "        power_consumption_scale = X.iloc[i:(i+look_back)]['power_consumption_scale_x']\n",
    "        featureX = power_consumption_scale.tolist() # consumption\n",
    "       \n",
    "        # weekBinary\n",
    "        tmp = [0,0,0,0,0,0,0]\n",
    "        weekNum = Y.iloc[i+look_back]['week_y']\n",
    "        tmp[int(weekNum)] = 1\n",
    "        featureX += tmp  #value\n",
    "        \n",
    "        # forecast day wether \n",
    "        wether_max = Y.iloc[(i+look_back)]['max_y']/30\n",
    "        wether_min = Y.iloc[(i+look_back)]['min_y']/30\n",
    "        featureX += [wether_max,wether_min]\n",
    "        \n",
    "        dataX.append(featureX)\n",
    "        \n",
    "        # Y consumption scale\n",
    "        power_consumption_scale = Y.iloc[(i+look_back)]['power_consumption_scale_y']\n",
    "        dataY.append([power_consumption_scale]) # consumption\n",
    "        \n",
    "        #print dataX\n",
    "        #print dataY\n",
    "        \n",
    "    return numpy.array(dataX), numpy.array(dataY)\n",
    "# dataX,dataY = create_dataset(originTrainXList[0],originTrainYList[0])"
   ]
  },
  {
   "cell_type": "code",
   "execution_count": 93,
   "metadata": {
    "collapsed": false
   },
   "outputs": [
    {
     "name": "stderr",
     "output_type": "stream",
     "text": [
      "100%|██████████| 204/204 [00:00<00:00, 922.36it/s]\n",
      "100%|██████████| 23/23 [00:00<00:00, 775.38it/s]\n"
     ]
    }
   ],
   "source": [
    "# reshape into X=t and Y=t+1\n",
    "look_back = 7\n",
    "trainX, trainY = create_dataset(originTrainXList[0],originTrainYList[0],look_back=look_back)\n",
    "testX, testY = create_dataset(originTestXList[0],originTestYList[0],look_back=look_back)\n",
    "# reshape input to be [samples, time steps, features]\n",
    "trainX = numpy.reshape(trainX, (trainX.shape[0], 1, trainX.shape[1]))\n",
    "testX = numpy.reshape(testX, (testX.shape[0], 1, testX.shape[1]))"
   ]
  },
  {
   "cell_type": "code",
   "execution_count": null,
   "metadata": {
    "collapsed": false,
    "scrolled": false
   },
   "outputs": [
    {
     "name": "stdout",
     "output_type": "stream",
     "text": [
      "Epoch 1/1000\n",
      "2s - loss: 0.0514\n",
      "Epoch 2/1000\n",
      "1s - loss: 0.0379\n",
      "Epoch 3/1000\n",
      "1s - loss: 0.0343\n",
      "Epoch 4/1000\n",
      "1s - loss: 0.0315\n",
      "Epoch 5/1000\n",
      "1s - loss: 0.0291\n",
      "Epoch 6/1000\n",
      "1s - loss: 0.0276\n",
      "Epoch 7/1000\n",
      "1s - loss: 0.0267\n",
      "Epoch 8/1000\n",
      "1s - loss: 0.0254\n",
      "Epoch 9/1000\n",
      "1s - loss: 0.0245\n",
      "Epoch 10/1000\n",
      "1s - loss: 0.0239\n",
      "Epoch 11/1000\n",
      "1s - loss: 0.0235\n",
      "Epoch 12/1000\n",
      "1s - loss: 0.0226\n",
      "Epoch 13/1000\n",
      "1s - loss: 0.0224\n",
      "Epoch 14/1000\n",
      "1s - loss: 0.0221\n",
      "Epoch 15/1000\n",
      "1s - loss: 0.0212\n",
      "Epoch 16/1000\n",
      "1s - loss: 0.0212\n",
      "Epoch 17/1000\n",
      "1s - loss: 0.0210\n",
      "Epoch 18/1000\n",
      "1s - loss: 0.0208\n",
      "Epoch 19/1000\n",
      "1s - loss: 0.0209\n",
      "Epoch 20/1000\n",
      "1s - loss: 0.0204\n",
      "Epoch 21/1000\n",
      "1s - loss: 0.0203\n",
      "Epoch 22/1000\n",
      "1s - loss: 0.0203\n",
      "Epoch 23/1000\n",
      "1s - loss: 0.0200\n",
      "Epoch 24/1000\n",
      "1s - loss: 0.0200\n",
      "Epoch 25/1000\n",
      "1s - loss: 0.0194\n",
      "Epoch 26/1000\n",
      "1s - loss: 0.0197\n",
      "Epoch 27/1000\n",
      "1s - loss: 0.0191\n",
      "Epoch 28/1000\n",
      "1s - loss: 0.0195\n",
      "Epoch 29/1000\n",
      "1s - loss: 0.0191\n",
      "Epoch 30/1000\n",
      "1s - loss: 0.0187\n",
      "Epoch 31/1000\n",
      "1s - loss: 0.0187\n",
      "Epoch 32/1000\n",
      "1s - loss: 0.0185\n",
      "Epoch 33/1000\n",
      "1s - loss: 0.0184\n",
      "Epoch 34/1000\n",
      "1s - loss: 0.0181\n",
      "Epoch 35/1000\n",
      "1s - loss: 0.0177\n",
      "Epoch 36/1000\n",
      "1s - loss: 0.0184\n",
      "Epoch 37/1000\n",
      "1s - loss: 0.0180\n",
      "Epoch 38/1000\n",
      "1s - loss: 0.0185\n",
      "Epoch 39/1000\n",
      "1s - loss: 0.0175\n",
      "Epoch 40/1000\n",
      "1s - loss: 0.0178\n",
      "Epoch 41/1000\n",
      "1s - loss: 0.0175\n",
      "Epoch 42/1000\n",
      "1s - loss: 0.0174\n",
      "Epoch 43/1000\n",
      "1s - loss: 0.0177\n",
      "Epoch 44/1000\n",
      "1s - loss: 0.0174\n",
      "Epoch 45/1000\n",
      "1s - loss: 0.0173\n",
      "Epoch 46/1000\n",
      "1s - loss: 0.0172\n",
      "Epoch 47/1000\n",
      "1s - loss: 0.0170\n",
      "Epoch 48/1000\n",
      "1s - loss: 0.0169\n",
      "Epoch 49/1000\n",
      "1s - loss: 0.0167\n",
      "Epoch 50/1000\n",
      "1s - loss: 0.0167\n",
      "Epoch 51/1000\n",
      "1s - loss: 0.0166\n",
      "Epoch 52/1000\n",
      "1s - loss: 0.0166\n",
      "Epoch 53/1000\n",
      "1s - loss: 0.0170\n",
      "Epoch 54/1000\n",
      "1s - loss: 0.0166\n",
      "Epoch 55/1000\n",
      "1s - loss: 0.0162\n",
      "Epoch 56/1000\n",
      "1s - loss: 0.0161\n",
      "Epoch 57/1000\n",
      "1s - loss: 0.0165\n",
      "Epoch 58/1000\n",
      "1s - loss: 0.0163\n",
      "Epoch 59/1000\n",
      "1s - loss: 0.0160\n",
      "Epoch 60/1000\n",
      "1s - loss: 0.0163\n",
      "Epoch 61/1000\n",
      "1s - loss: 0.0158\n",
      "Epoch 62/1000\n",
      "1s - loss: 0.0158\n",
      "Epoch 63/1000\n",
      "1s - loss: 0.0156\n",
      "Epoch 64/1000\n",
      "1s - loss: 0.0164\n",
      "Epoch 65/1000\n",
      "1s - loss: 0.0156\n",
      "Epoch 66/1000\n",
      "1s - loss: 0.0155\n",
      "Epoch 67/1000\n",
      "1s - loss: 0.0153\n",
      "Epoch 68/1000\n",
      "1s - loss: 0.0153\n",
      "Epoch 69/1000\n",
      "1s - loss: 0.0155\n",
      "Epoch 70/1000\n",
      "1s - loss: 0.0155\n",
      "Epoch 71/1000\n",
      "1s - loss: 0.0154\n",
      "Epoch 72/1000\n",
      "1s - loss: 0.0153\n",
      "Epoch 73/1000\n",
      "1s - loss: 0.0150\n",
      "Epoch 74/1000\n",
      "1s - loss: 0.0153\n",
      "Epoch 75/1000\n",
      "1s - loss: 0.0152\n",
      "Epoch 76/1000\n",
      "1s - loss: 0.0152\n",
      "Epoch 77/1000\n",
      "1s - loss: 0.0152\n",
      "Epoch 78/1000\n",
      "1s - loss: 0.0152\n",
      "Epoch 79/1000\n",
      "1s - loss: 0.0146\n",
      "Epoch 80/1000\n",
      "1s - loss: 0.0148\n",
      "Epoch 81/1000\n",
      "1s - loss: 0.0153\n",
      "Epoch 82/1000\n",
      "1s - loss: 0.0146\n",
      "Epoch 83/1000\n",
      "1s - loss: 0.0148\n",
      "Epoch 84/1000\n",
      "1s - loss: 0.0152\n",
      "Epoch 85/1000\n",
      "1s - loss: 0.0146\n",
      "Epoch 86/1000\n",
      "1s - loss: 0.0145\n",
      "Epoch 87/1000\n",
      "1s - loss: 0.0141\n",
      "Epoch 88/1000\n",
      "1s - loss: 0.0146\n",
      "Epoch 89/1000\n",
      "1s - loss: 0.0142\n",
      "Epoch 90/1000\n",
      "1s - loss: 0.0142\n",
      "Epoch 91/1000\n",
      "1s - loss: 0.0141\n",
      "Epoch 92/1000\n",
      "1s - loss: 0.0141\n",
      "Epoch 93/1000\n",
      "1s - loss: 0.0141\n",
      "Epoch 94/1000\n",
      "1s - loss: 0.0142\n",
      "Epoch 95/1000\n",
      "1s - loss: 0.0141\n",
      "Epoch 96/1000\n",
      "1s - loss: 0.0142\n",
      "Epoch 97/1000\n",
      "1s - loss: 0.0138\n",
      "Epoch 98/1000\n",
      "1s - loss: 0.0141\n",
      "Epoch 99/1000\n",
      "1s - loss: 0.0138\n",
      "Epoch 100/1000\n",
      "1s - loss: 0.0145\n",
      "Epoch 101/1000\n",
      "1s - loss: 0.0135\n",
      "Epoch 102/1000\n",
      "1s - loss: 0.0139\n",
      "Epoch 103/1000\n",
      "1s - loss: 0.0139\n",
      "Epoch 104/1000\n",
      "1s - loss: 0.0134\n",
      "Epoch 105/1000\n",
      "1s - loss: 0.0141\n",
      "Epoch 106/1000\n",
      "1s - loss: 0.0136\n",
      "Epoch 107/1000\n",
      "1s - loss: 0.0134\n",
      "Epoch 108/1000\n",
      "1s - loss: 0.0139\n",
      "Epoch 109/1000\n",
      "1s - loss: 0.0137\n",
      "Epoch 110/1000\n",
      "1s - loss: 0.0137\n",
      "Epoch 111/1000\n",
      "1s - loss: 0.0132\n",
      "Epoch 112/1000\n",
      "1s - loss: 0.0134\n",
      "Epoch 113/1000\n",
      "1s - loss: 0.0132\n",
      "Epoch 114/1000\n",
      "1s - loss: 0.0124\n",
      "Epoch 115/1000\n",
      "1s - loss: 0.0142\n",
      "Epoch 116/1000\n",
      "1s - loss: 0.0136\n",
      "Epoch 117/1000\n",
      "1s - loss: 0.0132\n",
      "Epoch 118/1000\n",
      "1s - loss: 0.0129\n",
      "Epoch 119/1000\n",
      "1s - loss: 0.0138\n",
      "Epoch 120/1000\n",
      "1s - loss: 0.0133\n",
      "Epoch 121/1000\n",
      "1s - loss: 0.0132\n",
      "Epoch 122/1000\n",
      "1s - loss: 0.0154\n",
      "Epoch 123/1000\n",
      "1s - loss: 0.0131\n",
      "Epoch 124/1000\n",
      "1s - loss: 0.0130\n",
      "Epoch 125/1000\n",
      "1s - loss: 0.0132\n",
      "Epoch 126/1000\n",
      "1s - loss: 0.0128\n",
      "Epoch 127/1000\n",
      "1s - loss: 0.0133\n",
      "Epoch 128/1000\n",
      "1s - loss: 0.0127\n",
      "Epoch 129/1000\n",
      "1s - loss: 0.0126\n",
      "Epoch 130/1000\n",
      "1s - loss: 0.0127\n",
      "Epoch 131/1000\n",
      "1s - loss: 0.0126\n",
      "Epoch 132/1000\n",
      "1s - loss: 0.0126\n",
      "Epoch 133/1000\n",
      "1s - loss: 0.0128\n",
      "Epoch 134/1000\n",
      "1s - loss: 0.0127\n",
      "Epoch 135/1000\n",
      "1s - loss: 0.0127\n",
      "Epoch 136/1000\n",
      "1s - loss: 0.0125\n",
      "Epoch 137/1000\n",
      "1s - loss: 0.0126\n",
      "Epoch 138/1000\n",
      "1s - loss: 0.0128\n",
      "Epoch 139/1000\n",
      "1s - loss: 0.0128\n",
      "Epoch 140/1000\n",
      "1s - loss: 0.0122\n",
      "Epoch 141/1000\n",
      "1s - loss: 0.0126\n",
      "Epoch 142/1000\n",
      "1s - loss: 0.0124\n",
      "Epoch 143/1000\n",
      "1s - loss: 0.0125\n",
      "Epoch 144/1000\n",
      "1s - loss: 0.0124\n",
      "Epoch 145/1000\n",
      "1s - loss: 0.0126\n",
      "Epoch 146/1000\n",
      "1s - loss: 0.0125\n",
      "Epoch 147/1000\n",
      "1s - loss: 0.0119\n",
      "Epoch 148/1000\n",
      "1s - loss: 0.0127\n",
      "Epoch 149/1000\n",
      "1s - loss: 0.0128\n",
      "Epoch 150/1000\n",
      "1s - loss: 0.0124\n",
      "Epoch 151/1000\n",
      "1s - loss: 0.0123\n",
      "Epoch 152/1000\n",
      "1s - loss: 0.0122\n",
      "Epoch 153/1000\n",
      "1s - loss: 0.0125\n",
      "Epoch 154/1000\n",
      "1s - loss: 0.0125\n",
      "Epoch 155/1000\n",
      "1s - loss: 0.0122\n",
      "Epoch 156/1000\n",
      "1s - loss: 0.0124\n",
      "Epoch 157/1000\n",
      "1s - loss: 0.0124\n",
      "Epoch 158/1000\n",
      "1s - loss: 0.0121\n",
      "Epoch 159/1000\n",
      "1s - loss: 0.0117\n",
      "Epoch 160/1000\n",
      "1s - loss: 0.0122\n",
      "Epoch 161/1000\n",
      "1s - loss: 0.0120\n",
      "Epoch 162/1000\n",
      "1s - loss: 0.0126\n",
      "Epoch 163/1000\n",
      "1s - loss: 0.0122\n",
      "Epoch 164/1000\n",
      "1s - loss: 0.0119\n",
      "Epoch 165/1000\n",
      "1s - loss: 0.0120\n",
      "Epoch 166/1000\n",
      "1s - loss: 0.0117\n",
      "Epoch 167/1000\n",
      "1s - loss: 0.0120\n",
      "Epoch 168/1000\n",
      "1s - loss: 0.0119\n",
      "Epoch 169/1000\n",
      "1s - loss: 0.0122\n",
      "Epoch 170/1000\n",
      "1s - loss: 0.0119\n",
      "Epoch 171/1000\n",
      "1s - loss: 0.0116\n",
      "Epoch 172/1000\n",
      "1s - loss: 0.0122\n",
      "Epoch 173/1000\n",
      "1s - loss: 0.0119\n",
      "Epoch 174/1000\n",
      "1s - loss: 0.0120\n",
      "Epoch 175/1000\n"
     ]
    }
   ],
   "source": [
    "# create and fit the LSTM network\n",
    "model = Sequential()\n",
    "model.add(LSTM(7, input_shape=(1, trainX.shape[2])))\n",
    "model.add(Dense(1))\n",
    "model.compile(loss='mean_squared_error', optimizer='adam')\n",
    "model.fit(trainX, trainY, epochs=1000, batch_size=1, verbose=2)"
   ]
  },
  {
   "cell_type": "code",
   "execution_count": 87,
   "metadata": {
    "collapsed": true
   },
   "outputs": [],
   "source": [
    "# make predictions\n",
    "trainPredict = model.predict(trainX)\n",
    "testPredict = model.predict(testX)"
   ]
  },
  {
   "cell_type": "code",
   "execution_count": 89,
   "metadata": {
    "collapsed": false
   },
   "outputs": [],
   "source": [
    "# invert predictions\n",
    "trainPredict = scalerDic[1].inverse_transform(trainPredict.reshape(-1,1))\n",
    "trainY = scalerDic[1].inverse_transform(trainY.reshape(-1,1))\n",
    "testPredict = scalerDic[1].inverse_transform(testPredict.reshape(-1,1))\n",
    "testY = scalerDic[1].inverse_transform(testY.reshape(-1,1))"
   ]
  },
  {
   "cell_type": "code",
   "execution_count": 91,
   "metadata": {
    "collapsed": false
   },
   "outputs": [
    {
     "name": "stdout",
     "output_type": "stream",
     "text": [
      "Train Score: 77.44 RMSE\n",
      "Test Score: 163.07 RMSE\n"
     ]
    },
    {
     "data": {
      "text/plain": [
       "[<matplotlib.lines.Line2D at 0x11d0b2a10>]"
      ]
     },
     "execution_count": 91,
     "metadata": {},
     "output_type": "execute_result"
    },
    {
     "data": {
      "image/png": "[encoded data removed]",
      "text/plain": [
       "<matplotlib.figure.Figure at 0x11d0b2850>"
      ]
     },
     "metadata": {},
     "output_type": "display_data"
    }
   ],
   "source": [
    "# calculate root mean squared error\n",
    "trainScore = math.sqrt(mean_squared_error(trainPredict, trainY))\n",
    "print('Train Score: %.2f RMSE' % (trainScore))\n",
    "testScore = math.sqrt(mean_squared_error(testPredict, testY))\n",
    "print('Test Score: %.2f RMSE' % (testScore))\n",
    "plt.plot(testPredict,'r-')\n",
    "plt.plot(testY)\n",
    "#plt.show()"
   ]
  },
  {
   "cell_type": "code",
   "execution_count": null,
   "metadata": {
    "collapsed": true
   },
   "outputs": [],
   "source": [
    "def sumAll(data):\n",
    "    '''sum by day'''\n",
    "    dataSum = pd.DataFrame()\n",
    "     \n",
    "  \n",
    "    dataSum['sum_consumption'] = data.groupby('record_date')['smooth'].sum() \n",
    "\n",
    "    dataSum['record_date'] = dataSum.index\n",
    "    dataSum['week'] = dataSum['record_date'].apply(lambda x:datetime.datetime.strptime(x,'%Y-%m-%d').weekday())\n",
    "    dataSum['month'] = dataSum['record_date'].apply(lambda x:datetime.datetime.strptime(x,'%Y-%m-%d').month)\n",
    "    dataSum['day'] = dataSum['record_date'].apply(lambda x:datetime.datetime.strptime(x,'%Y-%m-%d').day)\n",
    "  \n",
    "    return dataSum\n",
    "    \n",
    "#  1.read and processdata   \n",
    "dataRead = read(\"./data/Tianchi_power.csv\")\n",
    "dataRead.to_csv(\"./data/dataRead.csv\",index=False)\n",
    "plt.plot(dataRead[dataRead==1000]['power_consumption'])\n",
    "print dataRead.head() "
   ]
  }
 ],
 "metadata": {
  "kernelspec": {
   "display_name": "Python 2",
   "language": "python",
   "name": "python2"
  },
  "language_info": {
   "codemirror_mode": {
    "name": "ipython",
    "version": 2
   },
   "file_extension": ".py",
   "mimetype": "text/x-python",
   "name": "python",
   "nbconvert_exporter": "python",
   "pygments_lexer": "ipython2",
   "version": "2.7.13"
  }
 },
 "nbformat": 4,
 "nbformat_minor": 2
}
